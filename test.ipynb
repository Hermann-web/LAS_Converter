{
 "cells": [
  {
   "cell_type": "code",
   "execution_count": 9,
   "metadata": {},
   "outputs": [
    {
     "name": "stdout",
     "output_type": "stream",
     "text": [
      "Cloning into 'laspy'...\n",
      "remote: Enumerating objects: 4622, done.\u001b[K\n",
      "remote: Counting objects: 100% (866/866), done.\u001b[K\n",
      "remote: Compressing objects: 100% (219/219), done.\u001b[K (193/219)\u001b[K\n",
      "remote: Total 4622 (delta 677), reused 754 (delta 634), pack-reused 3756\u001b[K\n",
      "Receiving objects: 100% (4622/4622), 2.66 MiB | 5.37 MiB/s, done.\n",
      "Resolving deltas: 100% (2863/2863), done.\n",
      "mv: cannot move 'laspy/tests/data/' to 'data/data': Directory not empty\n"
     ]
    }
   ],
   "source": [
    "# dowload some files\n",
    "! git clone https://github.com/laspy/laspy\n",
    "! mv \"laspy/tests/data/\" \"data\"\n",
    "! sudo rm -r laspy/"
   ]
  },
  {
   "cell_type": "code",
   "execution_count": 10,
   "metadata": {},
   "outputs": [
    {
     "name": "stdout",
     "output_type": "stream",
     "text": [
      "Requirement already satisfied: tabulate in /usr/local/python/3.10.4/lib/python3.10/site-packages (0.9.0)\n",
      "\n",
      "\u001b[1m[\u001b[0m\u001b[34;49mnotice\u001b[0m\u001b[1;39;49m]\u001b[0m\u001b[39;49m A new release of pip is available: \u001b[0m\u001b[31;49m23.1.1\u001b[0m\u001b[39;49m -> \u001b[0m\u001b[32;49m23.1.2\u001b[0m\n",
      "\u001b[1m[\u001b[0m\u001b[34;49mnotice\u001b[0m\u001b[1;39;49m]\u001b[0m\u001b[39;49m To update, run: \u001b[0m\u001b[32;49mpython -m pip install --upgrade pip\u001b[0m\n"
     ]
    }
   ],
   "source": [
    "! pip install tabulate"
   ]
  },
  {
   "cell_type": "code",
   "execution_count": 11,
   "metadata": {},
   "outputs": [
    {
     "name": "stdout",
     "output_type": "stream",
     "text": [
      "Requirement already satisfied: laspy[laszip,lazrs] in /usr/local/python/3.10.4/lib/python3.10/site-packages (2.4.1)\n",
      "Requirement already satisfied: numpy in /home/codespace/.local/lib/python3.10/site-packages (from laspy[laszip,lazrs]) (1.24.3)\n",
      "Requirement already satisfied: lazrs<0.6.0,>=0.5.0 in /usr/local/python/3.10.4/lib/python3.10/site-packages (from laspy[laszip,lazrs]) (0.5.0)\n",
      "Requirement already satisfied: laszip<0.3.0,>=0.2.1 in /usr/local/python/3.10.4/lib/python3.10/site-packages (from laspy[laszip,lazrs]) (0.2.3)\n",
      "\n",
      "\u001b[1m[\u001b[0m\u001b[34;49mnotice\u001b[0m\u001b[1;39;49m]\u001b[0m\u001b[39;49m A new release of pip is available: \u001b[0m\u001b[31;49m23.1.1\u001b[0m\u001b[39;49m -> \u001b[0m\u001b[32;49m23.1.2\u001b[0m\n",
      "\u001b[1m[\u001b[0m\u001b[34;49mnotice\u001b[0m\u001b[1;39;49m]\u001b[0m\u001b[39;49m To update, run: \u001b[0m\u001b[32;49mpython -m pip install --upgrade pip\u001b[0m\n"
     ]
    }
   ],
   "source": [
    "! pip install laspy[lazrs,laszip]"
   ]
  },
  {
   "cell_type": "code",
   "execution_count": 12,
   "metadata": {},
   "outputs": [
    {
     "name": "stdout",
     "output_type": "stream",
     "text": [
      "Overwriting markdown_printer.py\n"
     ]
    }
   ],
   "source": [
    "%%writefile markdown_printer.py\n",
    "\n",
    "from IPython.display import display, Markdown\n",
    "from tabulate import tabulate\n",
    "from IPython import get_ipython\n",
    "\n",
    "def map_list_to_str(data:list):\n",
    "    return list(map(str, data))\n",
    "\n",
    "class MarkdownPrinter:\n",
    "    _instance = None\n",
    "\n",
    "    def __new__(cls):\n",
    "        if cls._instance is None:\n",
    "            cls._instance = super().__new__(cls)\n",
    "        return cls._instance\n",
    "\n",
    "    def __init__(self):\n",
    "        self.columns = []\n",
    "        self.text = \"\"\n",
    "    \n",
    "    def clean_table(self):\n",
    "        if not self.columns: return \"\"\n",
    "        text = tabulate(self.columns[1:], self.columns[0], tablefmt='pipe')\n",
    "        self.columns = []\n",
    "        return text\n",
    "\n",
    "    def __add_text__(self, text):\n",
    "        table_text = self.clean_table()\n",
    "        if table_text: self.text += \"\\n\\n\"+ table_text\n",
    "        if text: self.text += \"\\n\\n\" + text\n",
    "    \n",
    "    # def __add_table__(self):\n",
    "    #     if not self.columns: return\n",
    "    #     self.__add_text__(tabulate(self.columns[1:], self.columns[0], tablefmt='pipe'), is_table=True)\n",
    "    #     self.columns = []\n",
    "    \n",
    "    def print(self, *markdown_texts):\n",
    "        self.__add_text__(\" \".join(map_list_to_str(markdown_texts)))\n",
    "\n",
    "    def add_header(self, *headers):\n",
    "        self.__add_text__(\"\")\n",
    "        self.columns = [map_list_to_str(headers)]\n",
    "\n",
    "    def add_row(self, *cells):\n",
    "        assert self.columns\n",
    "        assert isinstance(self.columns[-1], list)\n",
    "        assert len(cells)==len(self.columns[-1])\n",
    "        self.columns.append(map_list_to_str(cells))\n",
    "\n",
    "    def show(self):\n",
    "        self.__add_text__(\"\")\n",
    "        if not self.text: return\n",
    "        display(Markdown(self.text))\n",
    "        self.text = \"\"\n",
    "\n",
    "printf = print\n",
    "printer=MarkdownPrinter()\n",
    "print = printer.print\n",
    "print_header = printer.add_header\n",
    "print_row = printer.add_row\n",
    "show = printer.show\n",
    "\n",
    "\n",
    "\n",
    "if __name__ == '__main__':\n",
    "    markdown_text = \"\"\"\n",
    "    # Heading\n",
    "\n",
    "    This is some **bold** text.\n",
    "\n",
    "    - List item 1\n",
    "    - List item 2\n",
    "    \"\"\"\n",
    "\n",
    "    print(markdown_text)\n",
    "\n",
    "    print_header(\"col1\", \"col2\")\n",
    "    print_row(\"1\", \"2999\")\n",
    "    print_row(8, 7)\n",
    "\n",
    "    print(markdown_text)\n",
    "\n",
    "    print_header(\"col1\", \"col2\")\n",
    "    print_row(\"1\", \"2999\")\n",
    "    print_row(8, 7)\n",
    "\n"
   ]
  },
  {
   "cell_type": "code",
   "execution_count": 24,
   "metadata": {},
   "outputs": [],
   "source": [
    "from IPython import get_ipython\n",
    "from markdown_printer import MarkdownPrinter, printf, print, print_header, print_row, show\n",
    "get_ipython().events.register('post_run_cell', show)"
   ]
  },
  {
   "cell_type": "code",
   "execution_count": 25,
   "metadata": {},
   "outputs": [],
   "source": [
    "import laspy\n",
    "import numpy as np\n",
    "import matplotlib.pyplot as plt\n",
    "from mpl_toolkits.mplot3d import Axes3D"
   ]
  },
  {
   "attachments": {},
   "cell_type": "markdown",
   "metadata": {},
   "source": [
    "See the documentation for more information about the changes https://laspy.readthedocs.io/en/latest/\n",
    "- To read a file do: `las = laspy.read('somefile.laz')`\n",
    "- To create a new LAS data do: `las = laspy.create(point_format=2, file_version='1.2')`\n",
    "- To write a file previously read or created: `las.write('somepath.las')`"
   ]
  },
  {
   "cell_type": "code",
   "execution_count": 14,
   "metadata": {},
   "outputs": [
    {
     "name": "stdout",
     "output_type": "stream",
     "text": [
      "total 2916\n",
      "-rw-rw-rw-  1 codespace codespace  32381 Jun  9 16:22 1_4_w_evlr.las\n",
      "-rw-rw-rw-  1 codespace codespace   8948 Jun  9 16:22 1_4_w_evlr.laz\n",
      "-rw-rw-rw-  1 codespace codespace   4962 Jun  9 16:22 autzen.las\n",
      "-rw-rw-rw-  1 codespace codespace   4970 Jun  9 16:22 autzen_geo_proj.las\n",
      "-rw-rw-rw-  1 codespace codespace 603353 Jun  9 16:22 autzen_trim.laz\n",
      "drwxrwxrwx+ 2 codespace codespace   4096 Jun  9 18:16 data\n",
      "-rw-rw-rw-  1 codespace codespace  29084 Jun  9 16:22 extra.laz\n",
      "-rw-rw-rw-  1 codespace codespace  66354 Jun  9 16:22 extrabytes.las\n",
      "-rw-rw-rw-  1 codespace codespace 763642 Jun  9 16:22 file_with_both_wkt_and_geotiff_vlrs.las\n",
      "-rw-rw-rw-  1 codespace codespace  59344 Jun  9 16:22 plane.laz\n",
      "-rw-rw-rw-  1 codespace codespace  33684 Jun  9 16:22 simple.copc.laz\n",
      "-rw-rw-rw-  1 codespace codespace  36437 Jun  9 16:22 simple.las\n",
      "-rw-rw-rw-  1 codespace codespace  18217 Jun  9 16:22 simple.laz\n",
      "-rw-rw-rw-  1 codespace codespace  30047 Jun  9 16:22 simple1_1.las\n",
      "-rw-rw-rw-  1 codespace codespace  62888 Jun  9 16:22 simple1_3.las\n",
      "-rw-rw-rw-  1 codespace codespace 814388 Jun  9 16:22 simple1_4.las\n",
      "-rw-rw-rw-  1 codespace codespace  33716 Jun  9 16:22 simple_with_page.copc.laz\n",
      "-rw-rw-rw-  1 codespace codespace  32305 Jun  9 16:22 test1_4.las\n",
      "-rw-rw-rw-  1 codespace codespace    511 Jun  9 16:22 unregistered_extra_bytes.las\n",
      "-rw-rw-rw-  1 codespace codespace 299359 Jun  9 16:22 vegetation_1_3.las\n"
     ]
    }
   ],
   "source": [
    "! ls -l data"
   ]
  },
  {
   "cell_type": "code",
   "execution_count": 15,
   "metadata": {},
   "outputs": [],
   "source": [
    "laz_filepath = 'data/autzen_trim.laz'"
   ]
  },
  {
   "cell_type": "code",
   "execution_count": 16,
   "metadata": {},
   "outputs": [
    {
     "data": {
      "text/markdown": [
       "\n",
       "\n",
       "## header\n",
       "\n",
       "- x_max = 637179.2200000001\n",
       "\n",
       "- x_min = 636001.76\n",
       "\n",
       "- x_offset = 0.0\n",
       "\n",
       "- x_scale = 0.01\n",
       "\n",
       "- y_max = 849497.9\n",
       "\n",
       "- y_min = 848935.2000000001\n",
       "\n",
       "- y_offset = 0.0\n",
       "\n",
       "- y_scale = 0.01\n",
       "\n",
       "- z_max = 520.51\n",
       "\n",
       "- z_min = 406.26\n",
       "\n",
       "- z_offset = 0.0\n",
       "\n",
       "- z_scale = 0.01"
      ],
      "text/plain": [
       "<IPython.core.display.Markdown object>"
      ]
     },
     "metadata": {},
     "output_type": "display_data"
    }
   ],
   "source": [
    "with laspy.open(laz_filepath) as fh:\n",
    "    print(\"## header\")\n",
    "    for key in ['x_max', 'x_min', 'x_offset', 'x_scale', 'y_max', 'y_min', 'y_offset', 'y_scale', 'z_max', 'z_min', 'z_offset', 'z_scale']:\n",
    "        print(f'- {key} = {getattr(fh.header, key)}')\n"
   ]
  },
  {
   "cell_type": "code",
   "execution_count": 19,
   "metadata": {},
   "outputs": [],
   "source": [
    "las = laspy.read(laz_filepath)"
   ]
  },
  {
   "cell_type": "code",
   "execution_count": 20,
   "metadata": {},
   "outputs": [
    {
     "data": {
      "text/markdown": [
       "\n",
       "\n",
       "Points from Header: 110000\n",
       "\n",
       "las = <LasData(1.2, point fmt: <PointFormat(3, 0 bytes of extra dims)>, 110000 points, 5 vlrs)>\n",
       "\n",
       "Points from data: = 110000\n",
       "\n",
       "### ground_pts\n",
       "\n",
       "#### Ground Point Return Number distribution:\n",
       "\n",
       "|   Return Number |   Count |\n",
       "|----------------:|--------:|\n",
       "|               1 |   23733 |\n",
       "|               2 |    1799 |\n",
       "|               3 |     521 |\n",
       "|               4 |      54 |\n",
       "\n",
       "### all_pts\n",
       "\n",
       "#### All Points Return Number distribution:\n",
       "\n",
       "|   Return Number |   Count |\n",
       "|----------------:|--------:|\n",
       "|               1 |   99257 |\n",
       "|               2 |    9021 |\n",
       "|               3 |    1623 |\n",
       "|               4 |      99 |"
      ],
      "text/plain": [
       "<IPython.core.display.Markdown object>"
      ]
     },
     "metadata": {},
     "output_type": "display_data"
    }
   ],
   "source": [
    "\n",
    "print('Points from Header:', las.header.point_count)\n",
    "print(f\"las = {las}\")\n",
    "print(f\"Points from data: = {len(las.points)}\")\n",
    "ground_pts = las.classification == 2\n",
    "print(f\"### ground_pts\")\n",
    "bins, counts = np.unique(las.return_number[ground_pts], return_counts=True)\n",
    "print('#### Ground Point Return Number distribution:')\n",
    "print_header('Return Number', 'Count')\n",
    "for r,c in zip(bins,counts):\n",
    "    print_row(r, c)\n",
    "print(f\"### all_pts\")\n",
    "bins, counts = np.unique(las.return_number, return_counts=True)\n",
    "print('#### All Points Return Number distribution:')\n",
    "print_header('Return Number', 'Count')\n",
    "for r,c in zip(bins,counts):\n",
    "    print_row(r, c)\n"
   ]
  },
  {
   "cell_type": "code",
   "execution_count": 21,
   "metadata": {},
   "outputs": [],
   "source": [
    "infile = laspy.read(\"data/autzen_trim.laz\")"
   ]
  },
  {
   "cell_type": "code",
   "execution_count": 27,
   "metadata": {},
   "outputs": [
    {
     "data": {
      "text/markdown": [
       "\n",
       "\n",
       "[1 2]"
      ],
      "text/plain": [
       "<IPython.core.display.Markdown object>"
      ]
     },
     "metadata": {},
     "output_type": "display_data"
    }
   ],
   "source": [
    "print(np.unique(infile.classification))"
   ]
  }
 ],
 "metadata": {
  "kernelspec": {
   "display_name": "Python 3",
   "language": "python",
   "name": "python3"
  },
  "language_info": {
   "codemirror_mode": {
    "name": "ipython",
    "version": 3
   },
   "file_extension": ".py",
   "mimetype": "text/x-python",
   "name": "python",
   "nbconvert_exporter": "python",
   "pygments_lexer": "ipython3",
   "version": "3.10.4"
  },
  "orig_nbformat": 4
 },
 "nbformat": 4,
 "nbformat_minor": 2
}
